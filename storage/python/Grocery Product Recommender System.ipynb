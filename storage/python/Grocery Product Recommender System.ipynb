{
 "cells": [
  {
   "cell_type": "code",
   "execution_count": 63,
   "metadata": {},
   "outputs": [],
   "source": [
    "import mysql.connector\n",
    "from mysql.connector import Error\n",
    "import pandas as pd\n",
    "import numpy as np\n",
    "\n",
    "connection = mysql.connector.connect(host='localhost',database='groceryproductrecommendersystem', user='root', password='')\n",
    "cursor = connection.cursor()\n",
    "    "
   ]
  },
  {
   "cell_type": "code",
   "execution_count": 64,
   "metadata": {},
   "outputs": [
    {
     "data": {
      "text/html": [
       "<div>\n",
       "<style scoped>\n",
       "    .dataframe tbody tr th:only-of-type {\n",
       "        vertical-align: middle;\n",
       "    }\n",
       "\n",
       "    .dataframe tbody tr th {\n",
       "        vertical-align: top;\n",
       "    }\n",
       "\n",
       "    .dataframe thead th {\n",
       "        text-align: right;\n",
       "    }\n",
       "</style>\n",
       "<table border=\"1\" class=\"dataframe\">\n",
       "  <thead>\n",
       "    <tr style=\"text-align: right;\">\n",
       "      <th></th>\n",
       "      <th>grocerylist_id</th>\n",
       "      <th>product_id</th>\n",
       "      <th>quantity</th>\n",
       "      <th>user_id</th>\n",
       "      <th>user_pax</th>\n",
       "      <th>meal_num</th>\n",
       "    </tr>\n",
       "  </thead>\n",
       "  <tbody>\n",
       "    <tr>\n",
       "      <th>0</th>\n",
       "      <td>1</td>\n",
       "      <td>1</td>\n",
       "      <td>2</td>\n",
       "      <td>5</td>\n",
       "      <td>5</td>\n",
       "      <td>2</td>\n",
       "    </tr>\n",
       "    <tr>\n",
       "      <th>1</th>\n",
       "      <td>1</td>\n",
       "      <td>2</td>\n",
       "      <td>3</td>\n",
       "      <td>5</td>\n",
       "      <td>5</td>\n",
       "      <td>2</td>\n",
       "    </tr>\n",
       "    <tr>\n",
       "      <th>2</th>\n",
       "      <td>3</td>\n",
       "      <td>1</td>\n",
       "      <td>2</td>\n",
       "      <td>4</td>\n",
       "      <td>2</td>\n",
       "      <td>1</td>\n",
       "    </tr>\n",
       "    <tr>\n",
       "      <th>3</th>\n",
       "      <td>2</td>\n",
       "      <td>10</td>\n",
       "      <td>2</td>\n",
       "      <td>1</td>\n",
       "      <td>2</td>\n",
       "      <td>2</td>\n",
       "    </tr>\n",
       "    <tr>\n",
       "      <th>4</th>\n",
       "      <td>2</td>\n",
       "      <td>11</td>\n",
       "      <td>1</td>\n",
       "      <td>1</td>\n",
       "      <td>2</td>\n",
       "      <td>2</td>\n",
       "    </tr>\n",
       "    <tr>\n",
       "      <th>5</th>\n",
       "      <td>2</td>\n",
       "      <td>1</td>\n",
       "      <td>1</td>\n",
       "      <td>1</td>\n",
       "      <td>2</td>\n",
       "      <td>2</td>\n",
       "    </tr>\n",
       "  </tbody>\n",
       "</table>\n",
       "</div>"
      ],
      "text/plain": [
       "   grocerylist_id  product_id  quantity  user_id  user_pax  meal_num\n",
       "0               1           1         2        5         5         2\n",
       "1               1           2         3        5         5         2\n",
       "2               3           1         2        4         2         1\n",
       "3               2          10         2        1         2         2\n",
       "4               2          11         1        1         2         2\n",
       "5               2           1         1        1         2         2"
      ]
     },
     "execution_count": 64,
     "metadata": {},
     "output_type": "execute_result"
    }
   ],
   "source": [
    "sql_select_Query = \"select grocerylist_products.grocerylist_id, grocerylist_products.product_id, grocerylist_products.quantity, grocerylists.user_id, grocerylists.user_pax, grocerylists.meal_num from grocerylist_products join grocerylists on grocerylist_products.grocerylist_id = grocerylists.id\"\n",
    "cursor.execute(sql_select_Query)\n",
    "grocerylist_df = pd.DataFrame(cursor.fetchall(), columns = ['grocerylist_id', 'product_id', 'quantity', 'user_id', 'user_pax', 'meal_num'])\n",
    "grocerylist_df"
   ]
  },
  {
   "cell_type": "code",
   "execution_count": 65,
   "metadata": {},
   "outputs": [],
   "source": [
    "# collaborative filtering - give suggestions based on other user selection\n",
    "# parameter is the user_pax of the user and the product_id\n",
    "def get_recommendations_quantity(user_pax, meal_num, product_id):\n",
    "    recommend_df = grocerylist_df[(grocerylist_df.user_pax == user_pax)&(grocerylist_df.meal_num == meal_num)&(grocerylist_df.product_id == product_id)]\n",
    "    if recommend_df.empty:\n",
    "        return(0)\n",
    "    else:    \n",
    "        recommend_quantity = recommend_df['quantity'].value_counts().idxmax()\n",
    "        return(recommend_quantity)"
   ]
  },
  {
   "cell_type": "code",
   "execution_count": 68,
   "metadata": {},
   "outputs": [
    {
     "name": "stdout",
     "output_type": "stream",
     "text": [
      "1\n"
     ]
    }
   ],
   "source": [
    "# get_recommendations_quantity(2,2,1)\n",
    "print(get_recommendations_quantity(2,2,1))"
   ]
  },
  {
   "cell_type": "code",
   "execution_count": 69,
   "metadata": {},
   "outputs": [
    {
     "data": {
      "text/html": [
       "<div>\n",
       "<style scoped>\n",
       "    .dataframe tbody tr th:only-of-type {\n",
       "        vertical-align: middle;\n",
       "    }\n",
       "\n",
       "    .dataframe tbody tr th {\n",
       "        vertical-align: top;\n",
       "    }\n",
       "\n",
       "    .dataframe thead th {\n",
       "        text-align: right;\n",
       "    }\n",
       "</style>\n",
       "<table border=\"1\" class=\"dataframe\">\n",
       "  <thead>\n",
       "    <tr style=\"text-align: right;\">\n",
       "      <th></th>\n",
       "      <th>grocerylist_id</th>\n",
       "      <th>product_id</th>\n",
       "      <th>quantity</th>\n",
       "      <th>user_id</th>\n",
       "      <th>user_pax</th>\n",
       "      <th>meal_num</th>\n",
       "    </tr>\n",
       "  </thead>\n",
       "  <tbody>\n",
       "    <tr>\n",
       "      <th>5</th>\n",
       "      <td>2</td>\n",
       "      <td>1</td>\n",
       "      <td>1</td>\n",
       "      <td>1</td>\n",
       "      <td>2</td>\n",
       "      <td>2</td>\n",
       "    </tr>\n",
       "  </tbody>\n",
       "</table>\n",
       "</div>"
      ],
      "text/plain": [
       "   grocerylist_id  product_id  quantity  user_id  user_pax  meal_num\n",
       "5               2           1         1        1         2         2"
      ]
     },
     "execution_count": 69,
     "metadata": {},
     "output_type": "execute_result"
    }
   ],
   "source": [
    "recommend_df =grocerylist_df[(grocerylist_df.user_pax == 2)&(grocerylist_df.meal_num == 2)&(grocerylist_df.product_id == 1)]\n",
    "recommend_df\n"
   ]
  },
  {
   "cell_type": "code",
   "execution_count": 38,
   "metadata": {},
   "outputs": [
    {
     "name": "stdout",
     "output_type": "stream",
     "text": [
      "Not empty\n"
     ]
    }
   ],
   "source": [
    "if recommend_df.empty:\n",
    "    print('DataFrame is empty!')\n",
    "else:\n",
    "    print('Not empty')"
   ]
  },
  {
   "cell_type": "code",
   "execution_count": 3,
   "metadata": {},
   "outputs": [
    {
     "name": "stdout",
     "output_type": "stream",
     "text": [
      "1\n"
     ]
    }
   ],
   "source": [
    "import mysql.connector\n",
    "import pandas as pd\n",
    "\n",
    "connection = mysql.connector.connect(host='localhost',database='groceryproductrecommendersystem', user='root', password='')\n",
    "if connection.is_connected():\n",
    "    cursor = connection.cursor()\n",
    "    sql_select_Query = \"select grocerylist_products.grocerylist_id, grocerylist_products.product_id, grocerylist_products.quantity, grocerylists.user_id, grocerylists.user_pax, grocerylists.meal_num from grocerylist_products join grocerylists on grocerylist_products.grocerylist_id = grocerylists.id\"\n",
    "    cursor.execute(sql_select_Query)\n",
    "    grocerylist_df = pd.DataFrame(cursor.fetchall(), columns = ['grocerylist_id', 'product_id', 'quantity', 'user_id', 'user_pax', 'meal_num'])\n",
    "    # collaborative filtering - give suggestions based on other user selection\n",
    "    # parameter is the user_pax of the user and the product_id\n",
    "    def get_recommendations_quantity(user_pax, meal_num, product_id):\n",
    "        recommend_df = grocerylist_df[(grocerylist_df.user_pax == user_pax)&(grocerylist_df.meal_num == meal_num)&(grocerylist_df.product_id == product_id)]\n",
    "        if recommend_df.empty:\n",
    "            return(0)\n",
    "        else:    \n",
    "            recommend_quantity = recommend_df['quantity'].value_counts().idxmax()\n",
    "        return(recommend_quantity)   \n",
    "    output = get_recommendations_quantity(2,2,1)       \n",
    "    print(output)\n",
    "    cursor.close()\n",
    "    connection.close()"
   ]
  }
 ],
 "metadata": {
  "kernelspec": {
   "display_name": "Python 3",
   "language": "python",
   "name": "python3"
  },
  "language_info": {
   "codemirror_mode": {
    "name": "ipython",
    "version": 3
   },
   "file_extension": ".py",
   "mimetype": "text/x-python",
   "name": "python",
   "nbconvert_exporter": "python",
   "pygments_lexer": "ipython3",
   "version": "3.10.4"
  }
 },
 "nbformat": 4,
 "nbformat_minor": 4
}
